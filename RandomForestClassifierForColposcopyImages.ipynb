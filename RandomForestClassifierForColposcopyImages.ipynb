{
  "cells": [
    {
      "cell_type": "markdown",
      "metadata": {
        "id": "view-in-github",
        "colab_type": "text"
      },
      "source": [
        "<a href=\"https://colab.research.google.com/github/mohannn-sys/ColposcopyImageSegmentation/blob/main/RandomForestClassifierForColposcopyImages.ipynb\" target=\"_parent\"><img src=\"https://colab.research.google.com/assets/colab-badge.svg\" alt=\"Open In Colab\"/></a>"
      ]
    },
    {
      "cell_type": "code",
      "execution_count": null,
      "metadata": {
        "colab": {
          "base_uri": "https://localhost:8080/"
        },
        "id": "eRWeGfNBHO1m",
        "outputId": "2e7ec588-e0e1-493d-9fa9-d4975129afb0"
      },
      "outputs": [
        {
          "output_type": "stream",
          "name": "stdout",
          "text": [
            "Drive already mounted at /content/drive; to attempt to forcibly remount, call drive.mount(\"/content/drive\", force_remount=True).\n"
          ]
        }
      ],
      "source": [
        "from google.colab import drive\n",
        "drive.mount('/content/drive')"
      ]
    },
    {
      "cell_type": "code",
      "execution_count": null,
      "metadata": {
        "id": "1wr9QH3HBvsH"
      },
      "outputs": [],
      "source": [
        "import os\n",
        "import numpy as np\n",
        "import cv2\n",
        "from sklearn.ensemble import RandomForestClassifier\n",
        "import matplotlib.pyplot as plt\n",
        "import joblib\n",
        "import glob"
      ]
    },
    {
      "cell_type": "markdown",
      "metadata": {
        "id": "1nwUOw5cgelI"
      },
      "source": [
        "# Preparing Dataset\n",
        "Out of 42 processed images\n",
        "\n",
        "No. of training images = 37\n",
        "\n",
        "No. of testing images = 5"
      ]
    },
    {
      "cell_type": "code",
      "execution_count": null,
      "metadata": {
        "colab": {
          "base_uri": "https://localhost:8080/"
        },
        "id": "ua9XN4WdIQBZ",
        "outputId": "5ffafbc1-66e1-4f16-b984-3bf70ff11fb0"
      },
      "outputs": [
        {
          "output_type": "stream",
          "name": "stdout",
          "text": [
            "37\n",
            "37\n",
            "5\n",
            "5\n"
          ]
        }
      ],
      "source": [
        "# Define the paths to your image and mask folders\n",
        "image_folder = '/content/drive/MyDrive/TrainingData/ProcessedImages'\n",
        "mask_folder = '/content/drive/MyDrive/TrainingData/Mask'\n",
        "\n",
        "# Get sorted lists of image and mask files\n",
        "image_files = sorted(glob.glob(os.path.join(image_folder, '*.jpg')))\n",
        "mask_files = sorted(glob.glob(os.path.join(mask_folder, '*.png')))\n",
        "\n",
        "train_image_files = image_files[:37]\n",
        "train_mask_files = mask_files[:37]\n",
        "\n",
        "test_image_files = image_files[37:]\n",
        "test_mask_files = mask_files[37:]\n",
        "\n",
        "print(len(train_image_files))\n",
        "print(len(train_mask_files))\n",
        "print(len(test_image_files))\n",
        "print(len(test_mask_files))"
      ]
    },
    {
      "cell_type": "code",
      "execution_count": null,
      "metadata": {
        "colab": {
          "base_uri": "https://localhost:8080/"
        },
        "id": "28NATlHAZxjc",
        "outputId": "e594d727-7e59-434a-eaea-5d5212bffff6"
      },
      "outputs": [
        {
          "output_type": "stream",
          "name": "stdout",
          "text": [
            "(9699328, 3) (9699328,)\n"
          ]
        }
      ],
      "source": [
        "# Prepare training data\n",
        "X_train = []\n",
        "y_train = []\n",
        "\n",
        "for image_file, mask_file in zip(train_image_files, train_mask_files):\n",
        "    img = cv2.imread(image_file)   # Load image\n",
        "\n",
        "    img_array = img / 255.0   # Normalize pixel values to [0, 1]\n",
        "    img_array = cv2.resize(img_array, (512, 512))   #resize\n",
        "\n",
        "\n",
        "    # Load mask\n",
        "    mask = cv2.imread(mask_file, 0)  # Load mask as grayscale\n",
        "    mask_array = mask / 255.0  # Normalize pixel values to [0, 1]\n",
        "    mask_array = mask_array.astype(np.float32)\n",
        "    # Resize mask to (256, 256, 1)\n",
        "    mask_array = cv2.resize(mask_array, (512, 512))\n",
        "    mask_array = np.expand_dims(mask_array, axis=-1)  # Add a channel dimension\n",
        "    # Apply threshold to create binary mask\n",
        "    threshold = 0.5  # Adjust threshold if needed\n",
        "    mask_array = np.where(mask_array > threshold, 1, 0)  # Set pixels above threshold to 1\n",
        "\n",
        "    flattened_image = img_array.reshape(-1, 3)\n",
        "    binary_mask = mask_array.ravel()\n",
        "\n",
        "\n",
        "    X_train.append(flattened_image)\n",
        "    y_train.append(binary_mask)\n",
        "\n",
        "X_train = np.vstack(X_train)\n",
        "y_train = np.concatenate(y_train, axis = 0)\n",
        "\n",
        "print(X_train.shape, y_train.shape)"
      ]
    },
    {
      "cell_type": "code",
      "execution_count": null,
      "metadata": {
        "colab": {
          "base_uri": "https://localhost:8080/"
        },
        "id": "poA6mMYFdH7s",
        "outputId": "2e47f317-fe5f-446f-af0b-4b6c9210c84b"
      },
      "outputs": [
        {
          "output_type": "stream",
          "name": "stdout",
          "text": [
            "1.0 0.0\n",
            "(array([0, 1]), array([7778169, 1921159]))\n"
          ]
        }
      ],
      "source": [
        "print(np.max(X_train), np.min(X_train))\n",
        "print(np.unique(y_train, return_counts=True))"
      ]
    },
    {
      "cell_type": "code",
      "execution_count": null,
      "metadata": {
        "colab": {
          "base_uri": "https://localhost:8080/"
        },
        "id": "xUFowQh_e20Q",
        "outputId": "3d5a0a6c-d38e-4e4e-94fa-06d8b3d1a9d7"
      },
      "outputs": [
        {
          "output_type": "stream",
          "name": "stdout",
          "text": [
            "(1310720, 3) (1310720,)\n"
          ]
        }
      ],
      "source": [
        "# Load and preprocess images and masks\n",
        "X_test = []\n",
        "y_test = []\n",
        "\n",
        "for image_file, mask_file in zip(test_image_files, test_mask_files):\n",
        "    # Load image\n",
        "    img = cv2.imread(image_file)\n",
        "    # Normalize pixel values to [0, 1]\n",
        "    img_array = img / 255.0\n",
        "    img_array = cv2.resize(img_array, (512, 512))  # Resize to (256, 256, 3)\n",
        "\n",
        "\n",
        "    # Load mask\n",
        "    mask = cv2.imread(mask_file, 0)  # Load as grayscale\n",
        "    mask_array = mask / 255.0  # Normalize pixel values to [0, 1]\n",
        "    mask_array = mask_array.astype(np.float32)\n",
        "    # Resize mask to (256, 256, 1)\n",
        "    mask_array = cv2.resize(mask_array, (512, 512))\n",
        "    mask_array = np.expand_dims(mask_array, axis=-1)  # Add a channel dimension\n",
        "    # Apply threshold to create binary mask\n",
        "    threshold = 0.5  # Adjust threshold if needed\n",
        "    mask_array = np.where(mask_array > threshold, 1, 0)  # Set pixels above threshold to 1\n",
        "\n",
        "    flattened_image = img_array.reshape(-1, 3)\n",
        "    binary_mask = mask_array.ravel()\n",
        "\n",
        "\n",
        "    X_test.append(flattened_image)\n",
        "    y_test.append(binary_mask)\n",
        "\n",
        "X_test = np.vstack(X_test)\n",
        "y_test = np.concatenate(y_test, axis = 0)\n",
        "\n",
        "print(X_test.shape, y_test.shape)"
      ]
    },
    {
      "cell_type": "code",
      "execution_count": null,
      "metadata": {
        "colab": {
          "base_uri": "https://localhost:8080/",
          "height": 239
        },
        "id": "FNUwSmvTbJ74",
        "outputId": "473ba6bb-66bc-4dca-be9b-18f44951dc4a"
      },
      "outputs": [
        {
          "output_type": "execute_result",
          "data": {
            "text/plain": [
              "GridSearchCV(cv=5, estimator=RandomForestClassifier(), n_jobs=-1,\n",
              "             param_grid={'max_depth': [20], 'min_samples_leaf': [5],\n",
              "                         'min_samples_split': [10], 'n_estimators': [20]},\n",
              "             scoring='accuracy')"
            ],
            "text/html": [
              "<style>#sk-container-id-1 {color: black;background-color: white;}#sk-container-id-1 pre{padding: 0;}#sk-container-id-1 div.sk-toggleable {background-color: white;}#sk-container-id-1 label.sk-toggleable__label {cursor: pointer;display: block;width: 100%;margin-bottom: 0;padding: 0.3em;box-sizing: border-box;text-align: center;}#sk-container-id-1 label.sk-toggleable__label-arrow:before {content: \"▸\";float: left;margin-right: 0.25em;color: #696969;}#sk-container-id-1 label.sk-toggleable__label-arrow:hover:before {color: black;}#sk-container-id-1 div.sk-estimator:hover label.sk-toggleable__label-arrow:before {color: black;}#sk-container-id-1 div.sk-toggleable__content {max-height: 0;max-width: 0;overflow: hidden;text-align: left;background-color: #f0f8ff;}#sk-container-id-1 div.sk-toggleable__content pre {margin: 0.2em;color: black;border-radius: 0.25em;background-color: #f0f8ff;}#sk-container-id-1 input.sk-toggleable__control:checked~div.sk-toggleable__content {max-height: 200px;max-width: 100%;overflow: auto;}#sk-container-id-1 input.sk-toggleable__control:checked~label.sk-toggleable__label-arrow:before {content: \"▾\";}#sk-container-id-1 div.sk-estimator input.sk-toggleable__control:checked~label.sk-toggleable__label {background-color: #d4ebff;}#sk-container-id-1 div.sk-label input.sk-toggleable__control:checked~label.sk-toggleable__label {background-color: #d4ebff;}#sk-container-id-1 input.sk-hidden--visually {border: 0;clip: rect(1px 1px 1px 1px);clip: rect(1px, 1px, 1px, 1px);height: 1px;margin: -1px;overflow: hidden;padding: 0;position: absolute;width: 1px;}#sk-container-id-1 div.sk-estimator {font-family: monospace;background-color: #f0f8ff;border: 1px dotted black;border-radius: 0.25em;box-sizing: border-box;margin-bottom: 0.5em;}#sk-container-id-1 div.sk-estimator:hover {background-color: #d4ebff;}#sk-container-id-1 div.sk-parallel-item::after {content: \"\";width: 100%;border-bottom: 1px solid gray;flex-grow: 1;}#sk-container-id-1 div.sk-label:hover label.sk-toggleable__label {background-color: #d4ebff;}#sk-container-id-1 div.sk-serial::before {content: \"\";position: absolute;border-left: 1px solid gray;box-sizing: border-box;top: 0;bottom: 0;left: 50%;z-index: 0;}#sk-container-id-1 div.sk-serial {display: flex;flex-direction: column;align-items: center;background-color: white;padding-right: 0.2em;padding-left: 0.2em;position: relative;}#sk-container-id-1 div.sk-item {position: relative;z-index: 1;}#sk-container-id-1 div.sk-parallel {display: flex;align-items: stretch;justify-content: center;background-color: white;position: relative;}#sk-container-id-1 div.sk-item::before, #sk-container-id-1 div.sk-parallel-item::before {content: \"\";position: absolute;border-left: 1px solid gray;box-sizing: border-box;top: 0;bottom: 0;left: 50%;z-index: -1;}#sk-container-id-1 div.sk-parallel-item {display: flex;flex-direction: column;z-index: 1;position: relative;background-color: white;}#sk-container-id-1 div.sk-parallel-item:first-child::after {align-self: flex-end;width: 50%;}#sk-container-id-1 div.sk-parallel-item:last-child::after {align-self: flex-start;width: 50%;}#sk-container-id-1 div.sk-parallel-item:only-child::after {width: 0;}#sk-container-id-1 div.sk-dashed-wrapped {border: 1px dashed gray;margin: 0 0.4em 0.5em 0.4em;box-sizing: border-box;padding-bottom: 0.4em;background-color: white;}#sk-container-id-1 div.sk-label label {font-family: monospace;font-weight: bold;display: inline-block;line-height: 1.2em;}#sk-container-id-1 div.sk-label-container {text-align: center;}#sk-container-id-1 div.sk-container {/* jupyter's `normalize.less` sets `[hidden] { display: none; }` but bootstrap.min.css set `[hidden] { display: none !important; }` so we also need the `!important` here to be able to override the default hidden behavior on the sphinx rendered scikit-learn.org. See: https://github.com/scikit-learn/scikit-learn/issues/21755 */display: inline-block !important;position: relative;}#sk-container-id-1 div.sk-text-repr-fallback {display: none;}</style><div id=\"sk-container-id-1\" class=\"sk-top-container\"><div class=\"sk-text-repr-fallback\"><pre>GridSearchCV(cv=5, estimator=RandomForestClassifier(), n_jobs=-1,\n",
              "             param_grid={&#x27;max_depth&#x27;: [20], &#x27;min_samples_leaf&#x27;: [5],\n",
              "                         &#x27;min_samples_split&#x27;: [10], &#x27;n_estimators&#x27;: [20]},\n",
              "             scoring=&#x27;accuracy&#x27;)</pre><b>In a Jupyter environment, please rerun this cell to show the HTML representation or trust the notebook. <br />On GitHub, the HTML representation is unable to render, please try loading this page with nbviewer.org.</b></div><div class=\"sk-container\" hidden><div class=\"sk-item sk-dashed-wrapped\"><div class=\"sk-label-container\"><div class=\"sk-label sk-toggleable\"><input class=\"sk-toggleable__control sk-hidden--visually\" id=\"sk-estimator-id-1\" type=\"checkbox\" ><label for=\"sk-estimator-id-1\" class=\"sk-toggleable__label sk-toggleable__label-arrow\">GridSearchCV</label><div class=\"sk-toggleable__content\"><pre>GridSearchCV(cv=5, estimator=RandomForestClassifier(), n_jobs=-1,\n",
              "             param_grid={&#x27;max_depth&#x27;: [20], &#x27;min_samples_leaf&#x27;: [5],\n",
              "                         &#x27;min_samples_split&#x27;: [10], &#x27;n_estimators&#x27;: [20]},\n",
              "             scoring=&#x27;accuracy&#x27;)</pre></div></div></div><div class=\"sk-parallel\"><div class=\"sk-parallel-item\"><div class=\"sk-item\"><div class=\"sk-label-container\"><div class=\"sk-label sk-toggleable\"><input class=\"sk-toggleable__control sk-hidden--visually\" id=\"sk-estimator-id-2\" type=\"checkbox\" ><label for=\"sk-estimator-id-2\" class=\"sk-toggleable__label sk-toggleable__label-arrow\">estimator: RandomForestClassifier</label><div class=\"sk-toggleable__content\"><pre>RandomForestClassifier()</pre></div></div></div><div class=\"sk-serial\"><div class=\"sk-item\"><div class=\"sk-estimator sk-toggleable\"><input class=\"sk-toggleable__control sk-hidden--visually\" id=\"sk-estimator-id-3\" type=\"checkbox\" ><label for=\"sk-estimator-id-3\" class=\"sk-toggleable__label sk-toggleable__label-arrow\">RandomForestClassifier</label><div class=\"sk-toggleable__content\"><pre>RandomForestClassifier()</pre></div></div></div></div></div></div></div></div></div></div>"
            ]
          },
          "metadata": {},
          "execution_count": 8
        }
      ],
      "source": [
        "from sklearn.ensemble import RandomForestClassifier\n",
        "from sklearn.model_selection import GridSearchCV\n",
        "from sklearn.metrics import accuracy_score\n",
        "\n",
        "# Define your RandomForestClassifier\n",
        "clf = RandomForestClassifier()\n",
        "\n",
        "# Define the hyperparameters you want to tune\n",
        "param_grid = {\n",
        "    'max_depth': [20],\n",
        "    'n_estimators': [20],\n",
        "    'min_samples_leaf': [5],\n",
        "    'min_samples_split': [10]\n",
        "}\n",
        "\n",
        "# Define GridSearchCV\n",
        "grid_search = GridSearchCV(estimator=clf, param_grid=param_grid, cv=5, scoring='accuracy', n_jobs=-1)\n",
        "\n",
        "# Train the model\n",
        "grid_search.fit(X_train, y_train)"
      ]
    },
    {
      "cell_type": "code",
      "execution_count": null,
      "metadata": {
        "id": "yQ8dYU0SbJ5C",
        "colab": {
          "base_uri": "https://localhost:8080/"
        },
        "outputId": "22387cf8-610c-42d1-b60b-5c2fdf9952cc"
      },
      "outputs": [
        {
          "output_type": "stream",
          "name": "stdout",
          "text": [
            "Cross-validation Accuracy: 0.8773612960935046 Parameters: {'max_depth': 20, 'min_samples_leaf': 5, 'min_samples_split': 10, 'n_estimators': 20}\n",
            "Best Parameters: {'max_depth': 20, 'min_samples_leaf': 5, 'min_samples_split': 10, 'n_estimators': 20}\n",
            "Accuracy: 0.8195945739746093\n"
          ]
        }
      ],
      "source": [
        "# Print cross-validation accuracy for each parameter combination\n",
        "cv_results = grid_search.cv_results_\n",
        "for mean_score, params in zip(cv_results[\"mean_test_score\"], cv_results[\"params\"]):\n",
        "    print(\"Cross-validation Accuracy:\", mean_score, \"Parameters:\", params)\n",
        "\n",
        "\n",
        "# Get the best parameters\n",
        "best_params = grid_search.best_params_\n",
        "print(\"Best Parameters:\", best_params)\n",
        "\n",
        "# Get the best model\n",
        "best_clf = grid_search.best_estimator_\n",
        "\n",
        "# Predict on validation data\n",
        "y_pred = best_clf.predict(X_test)\n",
        "\n",
        "# Calculate accuracy\n",
        "accuracy = accuracy_score(y_test, y_pred)\n",
        "print(\"Accuracy:\", accuracy)"
      ]
    },
    {
      "cell_type": "code",
      "source": [
        "cv_results"
      ],
      "metadata": {
        "colab": {
          "base_uri": "https://localhost:8080/"
        },
        "id": "XF3GUmAoabOv",
        "outputId": "1141ba83-f7c1-4c75-f28c-6e87a8740cc9"
      },
      "execution_count": null,
      "outputs": [
        {
          "output_type": "execute_result",
          "data": {
            "text/plain": [
              "{'mean_fit_time': array([667.44144034]),\n",
              " 'std_fit_time': array([106.73338556]),\n",
              " 'mean_score_time': array([11.16777539]),\n",
              " 'std_score_time': array([1.68065686]),\n",
              " 'param_max_depth': masked_array(data=[20],\n",
              "              mask=[False],\n",
              "        fill_value='?',\n",
              "             dtype=object),\n",
              " 'param_min_samples_leaf': masked_array(data=[5],\n",
              "              mask=[False],\n",
              "        fill_value='?',\n",
              "             dtype=object),\n",
              " 'param_min_samples_split': masked_array(data=[10],\n",
              "              mask=[False],\n",
              "        fill_value='?',\n",
              "             dtype=object),\n",
              " 'param_n_estimators': masked_array(data=[20],\n",
              "              mask=[False],\n",
              "        fill_value='?',\n",
              "             dtype=object),\n",
              " 'params': [{'max_depth': 20,\n",
              "   'min_samples_leaf': 5,\n",
              "   'min_samples_split': 10,\n",
              "   'n_estimators': 20}],\n",
              " 'split0_test_score': array([0.87802405]),\n",
              " 'split1_test_score': array([0.8928493]),\n",
              " 'split2_test_score': array([0.87589452]),\n",
              " 'split3_test_score': array([0.85971086]),\n",
              " 'split4_test_score': array([0.88032775]),\n",
              " 'mean_test_score': array([0.8773613]),\n",
              " 'std_test_score': array([0.01060949]),\n",
              " 'rank_test_score': array([1], dtype=int32)}"
            ]
          },
          "metadata": {},
          "execution_count": 13
        }
      ]
    },
    {
      "cell_type": "code",
      "execution_count": null,
      "metadata": {
        "id": "QJb7B-JAe2uF"
      },
      "outputs": [],
      "source": [
        "pred_mask = best_clf.predict(X_test)"
      ]
    },
    {
      "cell_type": "code",
      "execution_count": null,
      "metadata": {
        "colab": {
          "base_uri": "https://localhost:8080/"
        },
        "id": "4JCQHhpPe2w1",
        "outputId": "4d8de8c4-c34a-4869-cd8c-5778726d1a65"
      },
      "outputs": [
        {
          "output_type": "stream",
          "name": "stdout",
          "text": [
            "[[869764  38365]\n",
            " [198096 204495]]\n",
            "              precision    recall  f1-score   support\n",
            "\n",
            "           0       0.81      0.96      0.88    908129\n",
            "           1       0.84      0.51      0.63    402591\n",
            "\n",
            "    accuracy                           0.82   1310720\n",
            "   macro avg       0.83      0.73      0.76   1310720\n",
            "weighted avg       0.82      0.82      0.80   1310720\n",
            "\n",
            "Class-wise IoU: [0.78624511 0.46375375]\n"
          ]
        }
      ],
      "source": [
        "from sklearn.metrics import confusion_matrix, classification_report\n",
        "\n",
        "# Calculate the confusion matrix\n",
        "conf_matrix = confusion_matrix(y_test, pred_mask)\n",
        "print(conf_matrix)\n",
        "\n",
        "# Calculate and print the classification report\n",
        "print(classification_report(y_test, pred_mask))\n",
        "\n",
        "# Calculate and print class-wise IoU\n",
        "iou = (conf_matrix.diagonal() / (conf_matrix.sum(axis=1) + conf_matrix.sum(axis=0) - conf_matrix.diagonal()))\n",
        "print(\"Class-wise IoU:\", iou)"
      ]
    },
    {
      "cell_type": "code",
      "source": [
        "from sklearn.metrics import classification_report, roc_auc_score, roc_curve\n",
        "\n",
        "# Get the best estimator from grid search\n",
        "best_model = grid_search.best_estimator_\n",
        "\n",
        "# Make predictions on testing data\n",
        "y_pred = best_model.predict(X_test)\n",
        "y_proba = best_model.predict_proba(X_test)[:, 1]  # Probabilities for positive class\n",
        "\n",
        "# Calculate AUC score\n",
        "auc_score = roc_auc_score(y_test, y_proba)\n",
        "\n",
        "# Plot ROC curve\n",
        "fpr, tpr, thresholds = roc_curve(y_test, y_proba)\n",
        "\n",
        "plt.figure(figsize=(8, 6))\n",
        "plt.plot(fpr, tpr, color='blue', label='ROC Curve (AUC = {:.2f})'.format(auc_score))\n",
        "plt.plot([0, 1], [0, 1], color='red', linestyle='--', label='Random Guessing')\n",
        "plt.xlabel('False Positive Rate')\n",
        "plt.ylabel('True Positive Rate')\n",
        "plt.title('Receiver Operating Characteristic (ROC) Curve')\n",
        "plt.legend()\n",
        "plt.grid(True)\n",
        "plt.show()"
      ],
      "metadata": {
        "colab": {
          "base_uri": "https://localhost:8080/",
          "height": 564
        },
        "id": "J2YOUP7ubEkR",
        "outputId": "2edd72c1-050b-4498-9e3e-5a51d3836ca0"
      },
      "execution_count": null,
      "outputs": [
        {
          "output_type": "display_data",
          "data": {
            "text/plain": [
              "<Figure size 800x600 with 1 Axes>"
            ],
            "image/png": "[encoded data removed]"
          },
          "metadata": {}
        }
      ]
    },
    {
      "cell_type": "code",
      "source": [],
      "metadata": {
        "id": "0HEc_4zTbEhb"
      },
      "execution_count": null,
      "outputs": []
    },
    {
      "cell_type": "code",
      "source": [],
      "metadata": {
        "id": "daBSeJjabEap"
      },
      "execution_count": null,
      "outputs": []
    },
    {
      "cell_type": "code",
      "source": [],
      "metadata": {
        "id": "g9unIJqybEPM"
      },
      "execution_count": null,
      "outputs": []
    },
    {
      "cell_type": "code",
      "execution_count": null,
      "metadata": {
        "id": "VAorliXTe2f7"
      },
      "outputs": [],
      "source": [
        "# Initialize the subplot axes\n",
        "n_images = len(test_image_files)\n",
        "fig, ax = plt.subplots(n_images, 3, figsize=(12, 4 * n_images))\n",
        "\n",
        "for i in range(n_images):\n",
        "    image_file = test_image_files[i]\n",
        "    mask_file = test_mask_files[i]\n",
        "\n",
        "    # Load image\n",
        "    img = cv2.imread(image_file)\n",
        "    # Normalize pixel values to [0, 1]\n",
        "    img_array = img / 255.0\n",
        "    img_array = cv2.resize(img_array, (512, 512))  # Resize to (256, 256, 3)\n",
        "\n",
        "\n",
        "    # Load mask\n",
        "    mask = cv2.imread(mask_file, 0)  # Load as grayscale\n",
        "    mask_array = mask / 255.0  # Normalize pixel values to [0, 1]\n",
        "    mask_array = mask_array.astype(np.float32)\n",
        "    # Resize mask to (256, 256, 1)\n",
        "    mask_array = cv2.resize(mask_array, (512, 512))\n",
        "    mask_array = np.expand_dims(mask_array, axis=-1)  # Add a channel dimension\n",
        "    # Apply threshold to create binary mask\n",
        "    threshold = 0.5  # Adjust threshold if needed\n",
        "    mask_array = np.where(mask_array > threshold, 1, 0)  # Set pixels above threshold to 1\n",
        "\n",
        "    flattened_image = img_array.reshape(-1, 3)\n",
        "    binary_mask = mask_array.ravel()\n",
        "\n",
        "    # Predict the mask\n",
        "    pred_mask_flattened = best_clf.predict(flattened_image)\n",
        "    pred_mask = pred_mask_flattened.reshape((512, 512))\n",
        "\n",
        "    # Display the image, actual mask, and predicted mask\n",
        "    ax[i, 0].imshow(cv2.cvtColor(cv2.resize(img, (512, 512)), cv2.COLOR_BGR2RGB))\n",
        "    ax[i, 1].imshow(mask_array, cmap='gray')\n",
        "    ax[i, 2].imshow(pred_mask, cmap='gray')\n",
        "\n",
        "    # Set the title of the plot\n",
        "    ax[i, 0].set_title('Image')\n",
        "    ax[i, 1].set_title('Actual Mask')\n",
        "    ax[i, 2].set_title(\"Predicted Mask\")\n",
        "\n",
        "    # Hide the axis labels\n",
        "    for j in range(3):\n",
        "        ax[i, j].axis('off')\n",
        "\n",
        "# Show the plot\n",
        "plt.tight_layout()\n",
        "plt.show()\n"
      ]
    },
    {
      "cell_type": "code",
      "execution_count": null,
      "metadata": {
        "id": "BXmD93lpXu0s"
      },
      "outputs": [],
      "source": []
    }
  ],
  "metadata": {
    "colab": {
      "provenance": [],
      "mount_file_id": "1Hk40bScZe1p8F6dFUFE6smXvqku3VcX0",
      "authorship_tag": "ABX9TyMUAHx/BcTvBZcnuTCkgP0u",
      "include_colab_link": true
    },
    "kernelspec": {
      "display_name": "Python 3",
      "name": "python3"
    },
    "language_info": {
      "name": "python"
    }
  },
  "nbformat": 4,
  "nbformat_minor": 0
}